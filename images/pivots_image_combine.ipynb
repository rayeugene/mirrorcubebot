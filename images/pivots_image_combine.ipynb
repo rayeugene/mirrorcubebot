{
 "cells": [
  {
   "cell_type": "code",
   "execution_count": 1,
   "metadata": {},
   "outputs": [],
   "source": [
    "from PIL import Image, ImageDraw, ImageFont"
   ]
  },
  {
   "cell_type": "code",
   "execution_count": 2,
   "metadata": {},
   "outputs": [],
   "source": [
    "# Load your images\n",
    "# img1 = Image.open(\"../../../images/heatmap_cube_cubie_rotation.png\")\n",
    "\n",
    "img2 = Image.open(\"../../../images/max_heatmap_pivots.png\")\n",
    "img3 = Image.open(\"../../../images/avg_heatmap_pivots.png\")\n",
    "\n",
    "# Resize images to make them consistent (optional)\n",
    "img_width, img_height = 800, 600  # Adjust as needed\n",
    "# img1 = img1.resize((img_width * 2, img_height))\n",
    "img2 = img2.resize((img_width, img_height))\n",
    "img3 = img3.resize((img_width, img_height))\n",
    "\n",
    "# Calculate the layout dimensions\n",
    "total_width = img_width * 2  # The middle row has two images side-by-side\n",
    "total_height = img_height * 1  # Three rows in total\n",
    "\n",
    "# Create a blank canvas for the final image\n",
    "combined_image = Image.new(\"RGB\", (total_width, total_height), (255, 255, 255))\n",
    "\n",
    "# Paste images onto the canvas\n",
    "# combined_image.paste(img1, (0, 0))  # Centered on the top row\n",
    "combined_image.paste(img2, (0, 0))  # Middle row, left\n",
    "combined_image.paste(img3, (img_width, 0))  # Middle row, right\n",
    "\n",
    "# Save and display the combined image\n",
    "combined_image.save(\"../../../images/combined_pivots.jpg\")\n",
    "combined_image.show()"
   ]
  },
  {
   "cell_type": "code",
   "execution_count": null,
   "metadata": {},
   "outputs": [],
   "source": []
  }
 ],
 "metadata": {
  "kernelspec": {
   "display_name": "manipulation_project",
   "language": "python",
   "name": "python3"
  },
  "language_info": {
   "codemirror_mode": {
    "name": "ipython",
    "version": 3
   },
   "file_extension": ".py",
   "mimetype": "text/x-python",
   "name": "python",
   "nbconvert_exporter": "python",
   "pygments_lexer": "ipython3",
   "version": "3.11.0"
  }
 },
 "nbformat": 4,
 "nbformat_minor": 2
}
