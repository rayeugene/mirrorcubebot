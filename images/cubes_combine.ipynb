{
 "cells": [
  {
   "cell_type": "code",
   "execution_count": 30,
   "metadata": {},
   "outputs": [],
   "source": [
    "from PIL import Image, ImageDraw, ImageFont"
   ]
  },
  {
   "cell_type": "code",
   "execution_count": 31,
   "metadata": {},
   "outputs": [],
   "source": [
    "# Load your images\n",
    "img1 = Image.open(\"../../../images/normal_vs_mirror.png\")\n",
    "img2 = Image.open(\"../../../images/different_sizes.png\")\n",
    "img3 = Image.open(\"../../../images/different_mirrors.png\")\n",
    "img4 = Image.open(\"../../../images/different_layer_spacing.png\")"
   ]
  },
  {
   "cell_type": "code",
   "execution_count": 32,
   "metadata": {},
   "outputs": [
    {
     "data": {
      "text/plain": [
       "((1041, 477), (1356, 663), (904, 481), (945, 464))"
      ]
     },
     "execution_count": 32,
     "metadata": {},
     "output_type": "execute_result"
    }
   ],
   "source": [
    "img1.size, img2.size, img3.size, img4.size"
   ]
  },
  {
   "cell_type": "code",
   "execution_count": 33,
   "metadata": {},
   "outputs": [],
   "source": [
    "# Resize images to make them consistent (optional)\n",
    "img_width= 800  # Adjust as needed\n",
    "img1 = img1.resize((img_width , int(img1.size[1]/ img1.size[0] * img_width)))\n",
    "img2 = img2.resize((img_width, int(img2.size[1]/ img2.size[0] * img_width)))\n",
    "img3 = img3.resize((img_width, int(img3.size[1]/ img3.size[0] * img_width)))\n",
    "img4 = img4.resize((img_width , int(img4.size[1]/ img4.size[0] * img_width)))\n",
    "\n",
    "I1 = ImageDraw.Draw(img1)\n",
    "I1.text((0, 0), \"1\", fill=(0, 0, 0))\n",
    "I2 = ImageDraw.Draw(img2)\n",
    "I2.text((0, 0), \"2\", fill=(0, 0, 0))\n",
    "I3 = ImageDraw.Draw(img3)\n",
    "I3.text((0, 0), \"3\", fill=(0, 0, 0))\n",
    "I4 = ImageDraw.Draw(img4)\n",
    "I4.text((0, 0), \"4\", fill=(0, 0, 0))\n",
    "\n",
    "# Calculate the layout dimensions\n",
    "total_width = img_width * 1 # The middle row has two images side-by-side\n",
    "total_height = img1.height+img2.height+img3.height+img4.height  # Three rows in total\n",
    "\n",
    "# Create a blank canvas for the final image\n",
    "combined_image = Image.new(\"RGB\", (total_width, total_height), (255, 255, 255))\n",
    "\n",
    "# Paste images onto the canvas\n",
    "combined_image.paste(img1, (0, 0))  # Centered on the top row\n",
    "combined_image.paste(img2, (0, img1.height))  # Middle row, left\n",
    "combined_image.paste(img3, (0, img1.height + img2.height))  # Middle row, right\n",
    "combined_image.paste(img4, (0, img1.height+img2.height+img3.height))  # Centered on the bottom row\n",
    "\n",
    "# Save and display the combined image\n",
    "combined_image.save(\"../../../images/combined_cubes.jpg\")\n",
    "combined_image.show()"
   ]
  },
  {
   "cell_type": "code",
   "execution_count": 36,
   "metadata": {},
   "outputs": [],
   "source": [
    "from PIL import Image, ImageDraw, ImageFont\n",
    "\n",
    "# Load your images\n",
    "img1 = Image.open(\"../../../images/normal_vs_mirror.png\")\n",
    "img2 = Image.open(\"../../../images/different_sizes.png\")\n",
    "img3 = Image.open(\"../../../images/different_mirrors.png\")\n",
    "img4 = Image.open(\"../../../images/different_layer_spacing.png\")\n",
    "\n",
    "# Resize images to make them consistent\n",
    "img_width = 800  # Adjust as needed\n",
    "img1 = img1.resize((img_width, int(img1.size[1] / img1.size[0] * img_width)))\n",
    "img2 = img2.resize((img_width, int(img2.size[1] / img2.size[0] * img_width)))\n",
    "img3 = img3.resize((img_width, int(img3.size[1] / img3.size[0] * img_width)))\n",
    "img4 = img4.resize((img_width, int(img4.size[1] / img4.size[0] * img_width)))\n",
    "\n",
    "# Function to add large numbers to the top-left corner of an image\n",
    "def add_large_number(image, number, img_width, font_size_ratio=10):\n",
    "    draw = ImageDraw.Draw(image)\n",
    "    font_size = int(img_width * font_size_ratio)  # Adjust font size relative to image width\n",
    "    try:\n",
    "        font = ImageFont.truetype(\"arial.ttf\", font_size)\n",
    "    except IOError:\n",
    "        font = ImageFont.load_default()\n",
    "    position = (10, 10)  # Top-left corner with padding\n",
    "    draw.text(position, str(number), fill=\"black\", font=font)\n",
    "\n",
    "# Add numbers to images\n",
    "add_large_number(img1, 1, img_width)\n",
    "add_large_number(img2, 2, img_width)\n",
    "add_large_number(img3, 3, img_width)\n",
    "add_large_number(img4, 4, img_width)\n",
    "\n",
    "# Calculate the layout dimensions\n",
    "total_width = img_width\n",
    "total_height = img1.height + img2.height + img3.height + img4.height\n",
    "\n",
    "# Create a blank canvas for the final image\n",
    "combined_image = Image.new(\"RGB\", (total_width, total_height), (255, 255, 255))\n",
    "\n",
    "# Paste images onto the canvas\n",
    "combined_image.paste(img1, (0, 0))  # Top row\n",
    "combined_image.paste(img2, (0, img1.height))  # Second row\n",
    "combined_image.paste(img3, (0, img1.height + img2.height))  # Third row\n",
    "combined_image.paste(img4, (0, img1.height + img2.height + img3.height))  # Bottom row\n",
    "\n",
    "# Save and display the combined image\n",
    "combined_image.save(\"../../../images/combined_cubes.jpg\")\n",
    "combined_image.show()\n"
   ]
  },
  {
   "cell_type": "code",
   "execution_count": null,
   "metadata": {},
   "outputs": [],
   "source": []
  }
 ],
 "metadata": {
  "kernelspec": {
   "display_name": "manipulation_project",
   "language": "python",
   "name": "python3"
  },
  "language_info": {
   "codemirror_mode": {
    "name": "ipython",
    "version": 3
   },
   "file_extension": ".py",
   "mimetype": "text/x-python",
   "name": "python",
   "nbconvert_exporter": "python",
   "pygments_lexer": "ipython3",
   "version": "3.11.0"
  }
 },
 "nbformat": 4,
 "nbformat_minor": 2
}
