{
 "cells": [
  {
   "cell_type": "code",
   "execution_count": 30,
   "metadata": {},
   "outputs": [],
   "source": [
    "from PIL import Image, ImageDraw, ImageFont"
   ]
  },
  {
   "cell_type": "code",
   "execution_count": 32,
   "metadata": {},
   "outputs": [],
   "source": [
    "# Load your images\n",
    "img1 = Image.open(\"../../../images/heatmap_friction_spacing_rotation.png\")\n",
    "img3 = Image.open(\"../../../images/avg_heatmap_friction_spacing.png\")\n",
    "img2 = Image.open(\"../../../images/max_heatmap_friction_spacing.png\")\n",
    "img4 = Image.open(\"../../../images/angular_error_friction.png\")\n",
    "\n",
    "# Resize images to make them consistent (optional)\n",
    "img_width, img_height = 800, 600  # Adjust as needed\n",
    "img1 = img1.resize((img_width * 2, img_height))\n",
    "img2 = img2.resize((img_width, img_height))\n",
    "img3 = img3.resize((img_width, img_height))\n",
    "img4 = img4.resize((img_width * 2, img_height))\n",
    "\n",
    "# Calculate the layout dimensions\n",
    "total_width = img_width * 2  # The middle row has two images side-by-side\n",
    "total_height = img_height * 3  # Three rows in total\n",
    "\n",
    "# Create a blank canvas for the final image\n",
    "combined_image = Image.new(\"RGB\", (total_width, total_height), (255, 255, 255))\n",
    "\n",
    "# Paste images onto the canvas\n",
    "combined_image.paste(img1, (0, 0))  # Centered on the top row\n",
    "combined_image.paste(img2, (0, img_height))  # Middle row, left\n",
    "combined_image.paste(img3, (img_width, img_height))  # Middle row, right\n",
    "combined_image.paste(img4, (0, img_height * 2))  # Centered on the bottom row\n",
    "\n",
    "# Save and display the combined image\n",
    "combined_image.save(\"../../../images/combined_friction_spacing.jpg\")\n",
    "combined_image.show()"
   ]
  },
  {
   "cell_type": "code",
   "execution_count": null,
   "metadata": {},
   "outputs": [],
   "source": []
  }
 ],
 "metadata": {
  "kernelspec": {
   "display_name": "manipulation_project",
   "language": "python",
   "name": "python3"
  },
  "language_info": {
   "codemirror_mode": {
    "name": "ipython",
    "version": 3
   },
   "file_extension": ".py",
   "mimetype": "text/x-python",
   "name": "python",
   "nbconvert_exporter": "python",
   "pygments_lexer": "ipython3",
   "version": "3.11.0"
  }
 },
 "nbformat": 4,
 "nbformat_minor": 2
}
