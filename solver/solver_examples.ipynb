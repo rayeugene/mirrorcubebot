{
 "cells": [
  {
   "cell_type": "code",
   "execution_count": 1,
   "metadata": {},
   "outputs": [],
   "source": [
    "import supercube"
   ]
  },
  {
   "cell_type": "code",
   "execution_count": 3,
   "metadata": {},
   "outputs": [
    {
     "name": "stdout",
     "output_type": "stream",
     "text": [
      "         +--------+\n",
      "         |  1   2 |\n",
      "         |  3   4 |\n",
      "+--------+--------+--------+--------+\n",
      "|  5   6 |  9  10 | 13  14 | 17  18 | \n",
      "|  7   8 | 11  12 | 15  16 | 19  20 | \n",
      "+--------+--------+--------+--------+\n",
      "         | 21  22 |\n",
      "         | 23  24 |\n",
      "         +--------+\n",
      "⬛⬛ 🟪🟪\n",
      "⬛⬛ 🟪🟪\n",
      "\n",
      "🟧🟧 🟩🟩 🟥🟥 🟦🟦 \n",
      "🟧🟧 🟩🟩 🟥🟥 🟦🟦 \n",
      "\n",
      "⬛⬛ 🟨🟨\n",
      "⬛⬛ 🟨🟨\n",
      "\n",
      "\n",
      "[[[1, 2], [3, 4]], [[5, 6], [7, 8]], [[9, 10], [11, 12]], [[13, 14], [15, 16]], [[17, 18], [19, 20]], [[21, 22], [23, 24]]]\n"
     ]
    }
   ],
   "source": [
    "pocket_cube = supercube.PocketCube()\n",
    "pocket_cube.show()\n",
    "pocket_cube.show(colors=True)\n",
    "print(pocket_cube.get_state())"
   ]
  },
  {
   "cell_type": "code",
   "execution_count": 4,
   "metadata": {},
   "outputs": [
    {
     "name": "stdout",
     "output_type": "stream",
     "text": [
      "U2 B' B2 B U2 L2 L B L' R D2 R' B2 L' F2 B' B2 D B2 R' F2 R U' U L2 F U2 L D' L \n",
      "         +--------+\n",
      "         |  3  10 |\n",
      "         |  7  17 |\n",
      "+--------+--------+--------+--------+\n",
      "|  9  20 | 23   2 | 14  13 |  4   6 | \n",
      "| 22   8 | 11   1 |  5  19 | 24  15 | \n",
      "+--------+--------+--------+--------+\n",
      "         | 21  18 |\n",
      "         | 12  16 |\n",
      "         +--------+\n",
      "⬛⬛ 🟪🟩\n",
      "⬛⬛ 🟧🟦\n",
      "\n",
      "🟩🟦 🟨🟪 🟥🟥 🟪🟧 \n",
      "🟨🟧 🟩🟪 🟧🟦 🟨🟥 \n",
      "\n",
      "⬛⬛ 🟨🟦\n",
      "⬛⬛ 🟩🟥\n",
      "\n",
      "\n",
      "[[[3, 10], [7, 17]], [[9, 20], [22, 8]], [[23, 2], [11, 1]], [[14, 13], [5, 19]], [[4, 6], [24, 15]], [[21, 18], [12, 16]]]\n"
     ]
    }
   ],
   "source": [
    "print(pocket_cube.scramble())\n",
    "pocket_cube.show()\n",
    "pocket_cube.show(colors=True)\n",
    "print(pocket_cube.get_state())"
   ]
  },
  {
   "cell_type": "code",
   "execution_count": 5,
   "metadata": {},
   "outputs": [
    {
     "name": "stdout",
     "output_type": "stream",
     "text": [
      "F U2 F2 R2 F' U2 F U' R F' \n",
      "         +--------+\n",
      "         | 19  17 |\n",
      "         | 20  18 |\n",
      "+--------+--------+--------+--------+\n",
      "| 24  23 |  7   5 |  1   2 | 14  16 | \n",
      "| 22  21 |  8   6 |  3   4 | 13  15 | \n",
      "+--------+--------+--------+--------+\n",
      "         | 11   9 |\n",
      "         | 12  10 |\n",
      "         +--------+\n",
      "⬛⬛ 🟦🟦\n",
      "⬛⬛ 🟦🟦\n",
      "\n",
      "🟨🟨 🟧🟧 🟪🟪 🟥🟥 \n",
      "🟨🟨 🟧🟧 🟪🟪 🟥🟥 \n",
      "\n",
      "⬛⬛ 🟩🟩\n",
      "⬛⬛ 🟩🟩\n",
      "\n",
      "\n",
      "[[[19, 17], [20, 18]], [[24, 23], [22, 21]], [[7, 5], [8, 6]], [[1, 2], [3, 4]], [[14, 16], [13, 15]], [[11, 9], [12, 10]]]\n"
     ]
    }
   ],
   "source": [
    "print(pocket_cube.solve())\n",
    "pocket_cube.show()\n",
    "pocket_cube.show(colors=True)\n",
    "print(pocket_cube.get_state())"
   ]
  },
  {
   "cell_type": "code",
   "execution_count": 9,
   "metadata": {},
   "outputs": [
    {
     "data": {
      "text/plain": [
       "(list, list, list, int)"
      ]
     },
     "execution_count": 9,
     "metadata": {},
     "output_type": "execute_result"
    }
   ],
   "source": [
    "type(pocket_cube.get_state()),type(pocket_cube.get_state()[0]),type(pocket_cube.get_state()[0][0]), type(pocket_cube.get_state()[0][0][0])"
   ]
  },
  {
   "cell_type": "code",
   "execution_count": null,
   "metadata": {},
   "outputs": [],
   "source": []
  }
 ],
 "metadata": {
  "kernelspec": {
   "display_name": "manipulation_project",
   "language": "python",
   "name": "python3"
  },
  "language_info": {
   "codemirror_mode": {
    "name": "ipython",
    "version": 3
   },
   "file_extension": ".py",
   "mimetype": "text/x-python",
   "name": "python",
   "nbconvert_exporter": "python",
   "pygments_lexer": "ipython3",
   "version": "3.11.0"
  }
 },
 "nbformat": 4,
 "nbformat_minor": 2
}
