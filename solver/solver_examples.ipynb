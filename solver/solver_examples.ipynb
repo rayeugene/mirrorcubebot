{
 "cells": [
  {
   "cell_type": "code",
   "execution_count": 2,
   "metadata": {},
   "outputs": [],
   "source": [
    "import supercube"
   ]
  },
  {
   "cell_type": "code",
   "execution_count": 3,
   "metadata": {},
   "outputs": [
    {
     "name": "stdout",
     "output_type": "stream",
     "text": [
      "         +--------+\n",
      "         |  1   2 |\n",
      "         |  3   4 |\n",
      "+--------+--------+--------+--------+\n",
      "|  5   6 |  9  10 | 13  14 | 17  18 | \n",
      "|  7   8 | 11  12 | 15  16 | 19  20 | \n",
      "+--------+--------+--------+--------+\n",
      "         | 21  22 |\n",
      "         | 23  24 |\n",
      "         +--------+\n",
      "⬛⬛ 🟪🟪\n",
      "⬛⬛ 🟪🟪\n",
      "\n",
      "🟧🟧 🟩🟩 🟥🟥 🟦🟦 \n",
      "🟧🟧 🟩🟩 🟥🟥 🟦🟦 \n",
      "\n",
      "⬛⬛ 🟨🟨\n",
      "⬛⬛ 🟨🟨\n",
      "\n",
      "\n",
      "[[[1, 2], [3, 4]], [[5, 6], [7, 8]], [[9, 10], [11, 12]], [[13, 14], [15, 16]], [[17, 18], [19, 20]], [[21, 22], [23, 24]]]\n"
     ]
    }
   ],
   "source": [
    "pocket_cube = supercube.PocketCube()\n",
    "pocket_cube.show()\n",
    "pocket_cube.show(colors=True)\n",
    "print(pocket_cube.get_state())"
   ]
  },
  {
   "cell_type": "code",
   "execution_count": 4,
   "metadata": {},
   "outputs": [
    {
     "name": "stdout",
     "output_type": "stream",
     "text": [
      "R' U2 L F' D F B2 B2 D L L2 F D2 R' U' U' D D2 L' R' F L' D2 D' F2 L F U' D' F' \n",
      "         +--------+\n",
      "         |  1   4 |\n",
      "         |  9  16 |\n",
      "+--------+--------+--------+--------+\n",
      "|  5   3 |  6  24 | 19  10 | 13  18 | \n",
      "| 11  23 | 20  14 |  2  15 | 22   8 | \n",
      "+--------+--------+--------+--------+\n",
      "         |  7  17 |\n",
      "         | 21  12 |\n",
      "         +--------+\n",
      "⬛⬛ 🟪🟪\n",
      "⬛⬛ 🟩🟥\n",
      "\n",
      "🟧🟪 🟧🟨 🟦🟩 🟥🟦 \n",
      "🟩🟨 🟦🟥 🟪🟥 🟨🟧 \n",
      "\n",
      "⬛⬛ 🟧🟦\n",
      "⬛⬛ 🟨🟩\n",
      "\n",
      "\n",
      "[[[1, 4], [9, 16]], [[5, 3], [11, 23]], [[6, 24], [20, 14]], [[19, 10], [2, 15]], [[13, 18], [22, 8]], [[7, 17], [21, 12]]]\n"
     ]
    }
   ],
   "source": [
    "print(pocket_cube.scramble())\n",
    "pocket_cube.show()\n",
    "pocket_cube.show(colors=True)\n",
    "print(pocket_cube.get_state())"
   ]
  },
  {
   "cell_type": "code",
   "execution_count": 5,
   "metadata": {},
   "outputs": [
    {
     "name": "stdout",
     "output_type": "stream",
     "text": [
      "R' F U F2 R2 U2 R' U R' \n",
      "         +--------+\n",
      "         |  3   1 |\n",
      "         |  4   2 |\n",
      "+--------+--------+--------+--------+\n",
      "|  9  10 | 13  14 | 17  18 |  5   6 | \n",
      "| 11  12 | 15  16 | 19  20 |  7   8 | \n",
      "+--------+--------+--------+--------+\n",
      "         | 22  24 |\n",
      "         | 21  23 |\n",
      "         +--------+\n",
      "⬛⬛ 🟪🟪\n",
      "⬛⬛ 🟪🟪\n",
      "\n",
      "🟩🟩 🟥🟥 🟦🟦 🟧🟧 \n",
      "🟩🟩 🟥🟥 🟦🟦 🟧🟧 \n",
      "\n",
      "⬛⬛ 🟨🟨\n",
      "⬛⬛ 🟨🟨\n",
      "\n",
      "\n",
      "[[[3, 1], [4, 2]], [[9, 10], [11, 12]], [[13, 14], [15, 16]], [[17, 18], [19, 20]], [[5, 6], [7, 8]], [[22, 24], [21, 23]]]\n"
     ]
    }
   ],
   "source": [
    "print(pocket_cube.solve())\n",
    "pocket_cube.show()\n",
    "pocket_cube.show(colors=True)\n",
    "print(pocket_cube.get_state())"
   ]
  },
  {
   "cell_type": "code",
   "execution_count": 6,
   "metadata": {},
   "outputs": [
    {
     "name": "stdout",
     "output_type": "stream",
     "text": [
      "         +--------+\n",
      "         |  4   3 |\n",
      "         |  2   1 |\n",
      "+--------+--------+--------+--------+\n",
      "| 13  14 | 17  18 |  5   6 |  9  10 | \n",
      "| 11  12 | 15  16 | 19  20 |  7   8 | \n",
      "+--------+--------+--------+--------+\n",
      "         | 22  24 |\n",
      "         | 21  23 |\n",
      "         +--------+\n",
      "⬛⬛ 🟪🟪\n",
      "⬛⬛ 🟪🟪\n",
      "\n",
      "🟥🟥 🟦🟦 🟧🟧 🟩🟩 \n",
      "🟩🟩 🟥🟥 🟦🟦 🟧🟧 \n",
      "\n",
      "⬛⬛ 🟨🟨\n",
      "⬛⬛ 🟨🟨\n",
      "\n",
      "\n",
      "[[[4, 3], [2, 1]], [[13, 14], [11, 12]], [[17, 18], [15, 16]], [[5, 6], [19, 20]], [[9, 10], [7, 8]], [[22, 24], [21, 23]]]\n"
     ]
    }
   ],
   "source": [
    "pocket_cube.move(\"U\")\n",
    "pocket_cube.show()\n",
    "pocket_cube.show(colors=True)\n",
    "print(pocket_cube.get_state())\n"
   ]
  },
  {
   "cell_type": "code",
   "execution_count": 7,
   "metadata": {},
   "outputs": [
    {
     "data": {
      "text/plain": [
       "(list, list, list, int)"
      ]
     },
     "execution_count": 7,
     "metadata": {},
     "output_type": "execute_result"
    }
   ],
   "source": [
    "type(pocket_cube.get_state()),type(pocket_cube.get_state()[0]),type(pocket_cube.get_state()[0][0]), type(pocket_cube.get_state()[0][0][0])"
   ]
  },
  {
   "cell_type": "code",
   "execution_count": null,
   "metadata": {},
   "outputs": [],
   "source": []
  }
 ],
 "metadata": {
  "kernelspec": {
   "display_name": "manipulation_project",
   "language": "python",
   "name": "python3"
  },
  "language_info": {
   "codemirror_mode": {
    "name": "ipython",
    "version": 3
   },
   "file_extension": ".py",
   "mimetype": "text/x-python",
   "name": "python",
   "nbconvert_exporter": "python",
   "pygments_lexer": "ipython3",
   "version": "3.11.0"
  }
 },
 "nbformat": 4,
 "nbformat_minor": 2
}
