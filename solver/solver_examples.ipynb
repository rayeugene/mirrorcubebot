{
 "cells": [
  {
   "cell_type": "code",
   "execution_count": 1,
   "metadata": {},
   "outputs": [],
   "source": [
    "import supercube"
   ]
  },
  {
   "cell_type": "code",
   "execution_count": 2,
   "metadata": {},
   "outputs": [
    {
     "name": "stdout",
     "output_type": "stream",
     "text": [
      "         +--------+\n",
      "         |  1   2 |\n",
      "         |  3   4 |\n",
      "+--------+--------+--------+--------+\n",
      "|  5   6 |  9  10 | 13  14 | 17  18 | \n",
      "|  7   8 | 11  12 | 15  16 | 19  20 | \n",
      "+--------+--------+--------+--------+\n",
      "         | 21  22 |\n",
      "         | 23  24 |\n",
      "         +--------+\n",
      "⬛⬛ 🟪🟪\n",
      "⬛⬛ 🟪🟪\n",
      "\n",
      "🟧🟧 🟩🟩 🟥🟥 🟦🟦 \n",
      "🟧🟧 🟩🟩 🟥🟥 🟦🟦 \n",
      "\n",
      "⬛⬛ 🟨🟨\n",
      "⬛⬛ 🟨🟨\n",
      "\n",
      "\n",
      "[[[1, 2], [3, 4]], [[5, 6], [7, 8]], [[9, 10], [11, 12]], [[13, 14], [15, 16]], [[17, 18], [19, 20]], [[21, 22], [23, 24]]]\n"
     ]
    }
   ],
   "source": [
    "pocket_cube = supercube.PocketCube()\n",
    "pocket_cube.show()\n",
    "pocket_cube.show(colors=True)\n",
    "print(pocket_cube.get_state())"
   ]
  },
  {
   "cell_type": "code",
   "execution_count": 3,
   "metadata": {},
   "outputs": [
    {
     "name": "stdout",
     "output_type": "stream",
     "text": [
      "L' B L2 L2 B2 L2 F2 R' R D R2 R2 R2 R' D2 R' B L' F' U B' F' D' L2 U' U' L L2 R D \n",
      "         +--------+\n",
      "         |  5   9 |\n",
      "         | 21  12 |\n",
      "+--------+--------+--------+--------+\n",
      "| 18  11 |  8  22 | 15   3 |  6   1 | \n",
      "| 13  23 | 20  17 | 14  24 | 16   4 | \n",
      "+--------+--------+--------+--------+\n",
      "         |  7   2 |\n",
      "         | 10  19 |\n",
      "         +--------+\n",
      "⬛⬛ 🟧🟩\n",
      "⬛⬛ 🟨🟩\n",
      "\n",
      "🟦🟩 🟧🟨 🟥🟪 🟧🟪 \n",
      "🟥🟨 🟦🟦 🟥🟨 🟥🟪 \n",
      "\n",
      "⬛⬛ 🟧🟪\n",
      "⬛⬛ 🟩🟦\n",
      "\n",
      "\n",
      "[[[5, 9], [21, 12]], [[18, 11], [13, 23]], [[8, 22], [20, 17]], [[15, 3], [14, 24]], [[6, 1], [16, 4]], [[7, 2], [10, 19]]]\n"
     ]
    }
   ],
   "source": [
    "print(pocket_cube.scramble())\n",
    "pocket_cube.show()\n",
    "pocket_cube.show(colors=True)\n",
    "print(pocket_cube.get_state())"
   ]
  },
  {
   "cell_type": "code",
   "execution_count": 5,
   "metadata": {},
   "outputs": [
    {
     "name": "stdout",
     "output_type": "stream",
     "text": [
      "R' F U F2 R2 U2 R' U R' \n",
      "         +--------+\n",
      "         |  3   1 |\n",
      "         |  4   2 |\n",
      "+--------+--------+--------+--------+\n",
      "|  9  10 | 13  14 | 17  18 |  5   6 | \n",
      "| 11  12 | 15  16 | 19  20 |  7   8 | \n",
      "+--------+--------+--------+--------+\n",
      "         | 22  24 |\n",
      "         | 21  23 |\n",
      "         +--------+\n",
      "⬛⬛ 🟪🟪\n",
      "⬛⬛ 🟪🟪\n",
      "\n",
      "🟩🟩 🟥🟥 🟦🟦 🟧🟧 \n",
      "🟩🟩 🟥🟥 🟦🟦 🟧🟧 \n",
      "\n",
      "⬛⬛ 🟨🟨\n",
      "⬛⬛ 🟨🟨\n",
      "\n",
      "\n",
      "[[[3, 1], [4, 2]], [[9, 10], [11, 12]], [[13, 14], [15, 16]], [[17, 18], [19, 20]], [[5, 6], [7, 8]], [[22, 24], [21, 23]]]\n"
     ]
    }
   ],
   "source": [
    "print(pocket_cube.solve())\n",
    "pocket_cube.show()\n",
    "pocket_cube.show(colors=True)\n",
    "print(pocket_cube.get_state())"
   ]
  },
  {
   "cell_type": "code",
   "execution_count": 6,
   "metadata": {},
   "outputs": [
    {
     "name": "stdout",
     "output_type": "stream",
     "text": [
      "         +--------+\n",
      "         |  4   3 |\n",
      "         |  2   1 |\n",
      "+--------+--------+--------+--------+\n",
      "| 13  14 | 17  18 |  5   6 |  9  10 | \n",
      "| 11  12 | 15  16 | 19  20 |  7   8 | \n",
      "+--------+--------+--------+--------+\n",
      "         | 22  24 |\n",
      "         | 21  23 |\n",
      "         +--------+\n",
      "⬛⬛ 🟪🟪\n",
      "⬛⬛ 🟪🟪\n",
      "\n",
      "🟥🟥 🟦🟦 🟧🟧 🟩🟩 \n",
      "🟩🟩 🟥🟥 🟦🟦 🟧🟧 \n",
      "\n",
      "⬛⬛ 🟨🟨\n",
      "⬛⬛ 🟨🟨\n",
      "\n",
      "\n",
      "[[[4, 3], [2, 1]], [[13, 14], [11, 12]], [[17, 18], [15, 16]], [[5, 6], [19, 20]], [[9, 10], [7, 8]], [[22, 24], [21, 23]]]\n"
     ]
    }
   ],
   "source": [
    "pocket_cube.move(\"U\")\n",
    "pocket_cube.show()\n",
    "pocket_cube.show(colors=True)\n",
    "print(pocket_cube.get_state())\n"
   ]
  },
  {
   "cell_type": "code",
   "execution_count": 7,
   "metadata": {},
   "outputs": [
    {
     "data": {
      "text/plain": [
       "(list, list, list, int)"
      ]
     },
     "execution_count": 7,
     "metadata": {},
     "output_type": "execute_result"
    }
   ],
   "source": [
    "type(pocket_cube.get_state()),type(pocket_cube.get_state()[0]),type(pocket_cube.get_state()[0][0]), type(pocket_cube.get_state()[0][0][0])"
   ]
  },
  {
   "cell_type": "code",
   "execution_count": null,
   "metadata": {},
   "outputs": [],
   "source": []
  }
 ],
 "metadata": {
  "kernelspec": {
   "display_name": "mirrorcubebot_venv",
   "language": "python",
   "name": "python3"
  },
  "language_info": {
   "codemirror_mode": {
    "name": "ipython",
    "version": 3
   },
   "file_extension": ".py",
   "mimetype": "text/x-python",
   "name": "python",
   "nbconvert_exporter": "python",
   "pygments_lexer": "ipython3",
   "version": "3.12.3"
  }
 },
 "nbformat": 4,
 "nbformat_minor": 2
}
